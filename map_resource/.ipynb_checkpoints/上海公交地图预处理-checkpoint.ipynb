{
 "cells": [
  {
   "cell_type": "code",
   "execution_count": 1,
   "id": "4b5e3407",
   "metadata": {},
   "outputs": [
    {
     "name": "stdout",
     "output_type": "stream",
     "text": [
      "880\n"
     ]
    }
   ],
   "source": [
    "import pandas as pd\n",
    "data=pd.read_excel('shanghaibus.xlsx')\n",
    "route_set=list(set(data['公交路线名称']))[:200]\n",
    "# for i in range(len(route_all)):\n",
    "#     if str(route_all[i])[0]=='1' and len(str(route_all[i]))==4 and str(route_all[i])[3]=='路' and str(route_all[i])!='110路':\n",
    "#         route_set.append(route_all[i])\n",
    "\n",
    "# route_set=route_set[:28]\n",
    "num_route=len(route_set)\n",
    "print(num_route)\n",
    "route_filted=0\n",
    "count_out=1\n",
    "w=open('Shanghai_bus.txt','w')\n",
    "while route_filted<num_route:\n",
    "    one_route=data[data['公交路线名称']==route_set[route_filted]]\n",
    "    if one_route.isnull().values.any() or route_set[route_filted]=='990路':\n",
    "        route_filted+=1\n",
    "        continue\n",
    "    num_station_per_route=one_route.shape[0]\n",
    "    for i in range(num_station_per_route+1):\n",
    "        if i==0:\n",
    "            w.write('id: '+str(count_out)+'\\n')\n",
    "            w.write('name: '+str(route_set[route_filted])+'\\n')\n",
    "            if count_out<10:\n",
    "                w.write('colour: #49775'+str(count_out)+'\\n')\n",
    "            elif count_out>=100:\n",
    "                w.write('colour: #123'+str(count_out)+'\\n')\n",
    "            else:\n",
    "                w.write('colour: #ED54'+str(count_out)+'\\n')\n",
    "            w.write('fromTo: '+str(one_route.iloc[[0],[1]].values)[3:-3]+' '+str(one_route.iloc[[num_station_per_route-1],[1]].values)[3:-3]+'\\n')\n",
    "            w.write('totalStations: '+str(num_station_per_route)+'\\n')\n",
    "        else:\n",
    "            w.write(str(i)+' '+str(one_route.iloc[[i-1],[1]].values)[3:-3]+' '+\\\n",
    "                str(one_route.iloc[[i-1],[2]].values)[2:-2]+','+str(one_route.iloc[[i-1],[3]].values)[2:-2]+'\\n')\n",
    "    \n",
    "    route_filted+=1\n",
    "    count_out+=1\n",
    "    w.write('\\n')"
   ]
  },
  {
   "cell_type": "code",
   "execution_count": null,
   "id": "4bfcf1f2",
   "metadata": {},
   "outputs": [],
   "source": []
  }
 ],
 "metadata": {
  "kernelspec": {
   "display_name": "Python 3 (ipykernel)",
   "language": "python",
   "name": "python3"
  },
  "language_info": {
   "codemirror_mode": {
    "name": "ipython",
    "version": 3
   },
   "file_extension": ".py",
   "mimetype": "text/x-python",
   "name": "python",
   "nbconvert_exporter": "python",
   "pygments_lexer": "ipython3",
   "version": "3.9.12"
  }
 },
 "nbformat": 4,
 "nbformat_minor": 5
}
